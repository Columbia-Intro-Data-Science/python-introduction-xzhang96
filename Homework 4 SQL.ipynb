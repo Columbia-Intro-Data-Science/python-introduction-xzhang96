{
 "cells": [
  {
   "cell_type": "markdown",
   "metadata": {},
   "source": [
    "### 1. Give a count of all videos currently out."
   ]
  },
  {
   "cell_type": "markdown",
   "metadata": {},
   "source": [
    "##### Query:  \n",
    "SELECT COUNT ($*$)  \n",
    "FROM rental  \n",
    "WHERE Return_date is null  \n",
    "\n",
    "##### Output:  \n",
    "| Count |\n",
    "|-------|\n",
    "| 183 |"
   ]
  },
  {
   "cell_type": "markdown",
   "metadata": {},
   "source": [
    "### 2. Make a list of all customer names who have videos out and how much they owe."
   ]
  },
  {
   "cell_type": "markdown",
   "metadata": {},
   "source": [
    "##### Query:  \n",
    "SELECT Name, sum(rental_rate)  \n",
    "FROM rental r  \n",
    "JOIN customer_list c on c.id = r.customer_id  \n",
    "JOIN inventory i on i.inventory_id = r.inventory_id  \n",
    "JOIN film f on f.film_id = i.film_id  \n",
    "WHERE r.Return_date is null  \n",
    "GROUP BY Name  \n",
    "\n",
    "##### Output:\n"
   ]
  },
  {
   "cell_type": "markdown",
   "metadata": {},
   "source": [
    "### 3.Give the most popular actors by store location."
   ]
  },
  {
   "cell_type": "markdown",
   "metadata": {},
   "source": [
    "**for store 1:**\n",
    "##### Query:  \n",
    "SELECT $*$ FROM  \n",
    "(SELECT CONCAT(a.first_name,' ', a.last_name) AS name, s.store_id, address.address, COUNT($*$) AS number  \n",
    "FROM rental r  \n",
    "JOIN staff s on r.staff_id = s.staff_id  \n",
    "JOIN store on store.store_id = s.store_id  \n",
    "JOIN inventory i on i.inventory_id = r.inventory_id  \n",
    "JOIN film_actor f on f.film_id = i.film_id  \n",
    "JOIN actor a on a.actor_id = f.actor_id  \n",
    "JOIN address on address.address_id = s.address_id  \n",
    "GROUP BY name, s.store_id, address.address  \n",
    "HAVING COUNT($*$)>1  \n",
    "ORDER BY s.store_id) as T  \n",
    "WHERE T.Store_id = 1  \n",
    "ORDER BY number DESC  \n",
    "LIMIT 1  \n",
    "\n",
    "##### Output:\n",
    "| Name | Store_id | Address | Number |\n",
    "|------|----------|---------|--------|\n",
    "| Susan Davis | 1 | 23 Workhaven Lane | 421 |\n",
    "\n",
    "\n",
    "\n",
    "\n",
    "**for store 2:**\n",
    "##### Query:  \n",
    "\n",
    "SELECT $*$ FROM  \n",
    "(SELECT CONCAT(a.first_name,' ', a.last_name) AS name, s.store_id, address.address, COUNT($*$) AS number  \n",
    "FROM rental r  \n",
    "JOIN staff s on r.staff_id = s.staff_id  \n",
    "JOIN store on store.store_id = s.store_id  \n",
    "JOIN inventory i on i.inventory_id = r.inventory_id  \n",
    "JOIN film_actor f on f.film_id = i.film_id  \n",
    "JOIN actor a on a.actor_id = f.actor_id  \n",
    "JOIN address on address.address_id = s.address_id  \n",
    "GROUP BY name, s.store_id, address.address  \n",
    "HAVING COUNT($*$)>1  \n",
    "ORDER BY s.store_id) as T  \n",
    "WHERE T.Store_id = 2    \n",
    "ORDER BY number DESC  \n",
    "LIMIT 1  \n",
    "\n",
    "##### Output:\n",
    "| Name | Store_id | Address | Number |\n",
    "|------|----------|---------|--------|\n",
    "| Susan Davis | 2 | 1411 Lillydale Drive | 404 |"
   ]
  },
  {
   "cell_type": "markdown",
   "metadata": {},
   "source": [
    "### 5. What hour of the day to people rent the most ?"
   ]
  },
  {
   "cell_type": "markdown",
   "metadata": {},
   "source": [
    "##### Query:  \n",
    "SELECT EXTRACT(HOUR FROM rental_date) AS Rental_hour, COUNT($*$) AS number  \n",
    "FROM rental  \n",
    "GROUP BY Rental_hour  \n",
    "HAVING COUNT($*$)>1  \n",
    "ORDER BY number DESC  \n",
    "LIMIT 1\n",
    "\n",
    "##### Output:  \n",
    "| Rental_hour | Number |\n",
    "|-------------|--------|\n",
    "|      15     |   887  |\n"
   ]
  },
  {
   "cell_type": "code",
   "execution_count": null,
   "metadata": {
    "collapsed": true
   },
   "outputs": [],
   "source": []
  }
 ],
 "metadata": {
  "kernelspec": {
   "display_name": "Python [Root]",
   "language": "python",
   "name": "Python [Root]"
  },
  "language_info": {
   "codemirror_mode": {
    "name": "ipython",
    "version": 3
   },
   "file_extension": ".py",
   "mimetype": "text/x-python",
   "name": "python",
   "nbconvert_exporter": "python",
   "pygments_lexer": "ipython3",
   "version": "3.5.2"
  }
 },
 "nbformat": 4,
 "nbformat_minor": 0
}
